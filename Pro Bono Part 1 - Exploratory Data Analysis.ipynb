{
 "cells": [
  {
   "cell_type": "markdown",
   "id": "1f431a3c",
   "metadata": {},
   "source": [
    "### This project includes three parts:\n",
    "1. Data Analysis & Distribution (EDA)\n",
    "2. Time Series Analysis\n",
    "3. NLP Processing & Text Analysis  \n",
    "  \n",
    "### This notebook is the first part: Data Analysis & Distribution (EDA)"
   ]
  },
  {
   "cell_type": "code",
   "execution_count": 6,
   "id": "decf3fe4",
   "metadata": {},
   "outputs": [],
   "source": [
    "import pandas as pd\n",
    "import numpy as np\n",
    "import csv\n",
    "import matplotlib.pyplot as plt"
   ]
  },
  {
   "cell_type": "markdown",
   "id": "c1552224",
   "metadata": {},
   "source": [
    "# Read Data"
   ]
  },
  {
   "cell_type": "code",
   "execution_count": 7,
   "id": "bc7f70e9",
   "metadata": {},
   "outputs": [],
   "source": [
    "clients = pd.read_csv(\"/Users/sqtang37/Desktop/Project/DataFest 2023/data/clients.csv\")\n",
    "questions = pd.read_csv(\"/Users/sqtang37/Desktop/Project/DataFest 2023/data/questions.csv\")\n",
    "attorneys = pd.read_csv(\"/Users/sqtang37/Desktop/Project/DataFest 2023/data/attorneys.csv\")\n",
    "questions = pd.read_csv(\"/Users/sqtang37/Desktop/Project/DataFest 2023/data/questions.csv\")"
   ]
  },
  {
   "cell_type": "code",
   "execution_count": 8,
   "id": "f07f8228",
   "metadata": {},
   "outputs": [],
   "source": [
    "qp = []\n",
    "\n",
    "with open('/Users/sqtang37/Desktop/Project/DataFest 2023/data/questionposts copy.txt', 'r') as file:\n",
    "    for line in file:\n",
    "        qp.append(line)\n",
    "        \n",
    "Qposts = pd.DataFrame([line.split(',', 3) for line in qp], columns=['Id', 'StateAbbr', 'QuestionUno', 'PostText'])\n",
    "\n",
    "Qposts[['PostText', 'CreatedUtc']] = Qposts['PostText'].str.rsplit(',', 1, expand=True)"
   ]
  },
  {
   "cell_type": "code",
   "execution_count": 9,
   "id": "28d42596",
   "metadata": {},
   "outputs": [],
   "source": [
    "Qposts['PostText'] = Qposts['PostText'].str.replace(r'^\"|\"$', '', regex=True)\n",
    "Qposts['CreatedUtc'] = Qposts['CreatedUtc'].str.replace(r'\"', '', regex=True).str.replace(r'\\n', '', regex=True)\n",
    "\n",
    "Qposts = Qposts.iloc[1:]"
   ]
  },
  {
   "cell_type": "code",
   "execution_count": 10,
   "id": "b5626fdd",
   "metadata": {},
   "outputs": [
    {
     "name": "stdout",
     "output_type": "stream",
     "text": [
      "<class 'pandas.core.frame.DataFrame'>\n",
      "RangeIndex: 11544 entries, 0 to 11543\n",
      "Data columns (total 8 columns):\n",
      " #   Column       Non-Null Count  Dtype \n",
      "---  ------       --------------  ----- \n",
      " 0   Id           11544 non-null  int64 \n",
      " 1   StateAbbr    11544 non-null  object\n",
      " 2   AttorneyUno  11544 non-null  object\n",
      " 3   City         11529 non-null  object\n",
      " 4   County       11539 non-null  object\n",
      " 5   StateName    11544 non-null  object\n",
      " 6   PostalCode   11544 non-null  int64 \n",
      " 7   CreatedUtc   11544 non-null  object\n",
      "dtypes: int64(2), object(6)\n",
      "memory usage: 721.6+ KB\n"
     ]
    }
   ],
   "source": [
    "attorneys.info()"
   ]
  },
  {
   "cell_type": "code",
   "execution_count": 11,
   "id": "34ab6aad",
   "metadata": {},
   "outputs": [
    {
     "name": "stdout",
     "output_type": "stream",
     "text": [
      "<class 'pandas.core.frame.DataFrame'>\n",
      "RangeIndex: 331426 entries, 0 to 331425\n",
      "Data columns (total 19 columns):\n",
      " #   Column              Non-Null Count   Dtype  \n",
      "---  ------              --------------   -----  \n",
      " 0   Id                  331426 non-null  int64  \n",
      " 1   StateAbbr           331426 non-null  object \n",
      " 2   ClientUno           331426 non-null  object \n",
      " 3   County              331180 non-null  object \n",
      " 4   StateName           331426 non-null  object \n",
      " 5   PostalCode          314157 non-null  float64\n",
      " 6   EthnicIdentity      278298 non-null  object \n",
      " 7   Age                 279870 non-null  float64\n",
      " 8   Gender              280227 non-null  object \n",
      " 9   MaritalStatus       279548 non-null  object \n",
      " 10  Veteran             269757 non-null  object \n",
      " 11  Imprisoned          280602 non-null  object \n",
      " 12  NumberInHousehold   280602 non-null  float64\n",
      " 13  AnnualIncome        280565 non-null  float64\n",
      " 14  AllowedIncome       280602 non-null  float64\n",
      " 15  CheckingBalance     212020 non-null  float64\n",
      " 16  SavingsBalance      106293 non-null  float64\n",
      " 17  InvestmentsBalance  13162 non-null   float64\n",
      " 18  CreatedUtc          331426 non-null  object \n",
      "dtypes: float64(8), int64(1), object(10)\n",
      "memory usage: 48.0+ MB\n"
     ]
    }
   ],
   "source": [
    "clients.info()"
   ]
  },
  {
   "cell_type": "code",
   "execution_count": 12,
   "id": "cac44907",
   "metadata": {},
   "outputs": [
    {
     "name": "stdout",
     "output_type": "stream",
     "text": [
      "<class 'pandas.core.frame.DataFrame'>\n",
      "RangeIndex: 202879 entries, 0 to 202878\n",
      "Data columns (total 14 columns):\n",
      " #   Column               Non-Null Count   Dtype \n",
      "---  ------               --------------   ----- \n",
      " 0   Id                   202879 non-null  int64 \n",
      " 1   StateAbbr            202879 non-null  object\n",
      " 2   QuestionUno          202879 non-null  object\n",
      " 3   CategoryUno          202879 non-null  object\n",
      " 4   Category             202879 non-null  object\n",
      " 5   SubcategoryUno       202879 non-null  object\n",
      " 6   Subcategory          202879 non-null  object\n",
      " 7   AskedByClientUno     202841 non-null  object\n",
      " 8   AskedOnUtc           202879 non-null  object\n",
      " 9   TakenByAttorneyUno   144005 non-null  object\n",
      " 10  TakenOnUtc           145651 non-null  object\n",
      " 11  ClosedByAttorneyUno  137787 non-null  object\n",
      " 12  ClosedOnUtc          199085 non-null  object\n",
      " 13  LegalDeadline        43944 non-null   object\n",
      "dtypes: int64(1), object(13)\n",
      "memory usage: 21.7+ MB\n"
     ]
    }
   ],
   "source": [
    "questions.info()"
   ]
  },
  {
   "cell_type": "code",
   "execution_count": 13,
   "id": "1dbfce9d",
   "metadata": {},
   "outputs": [
    {
     "name": "stdout",
     "output_type": "stream",
     "text": [
      "<class 'pandas.core.frame.DataFrame'>\n",
      "RangeIndex: 202879 entries, 0 to 202878\n",
      "Data columns (total 14 columns):\n",
      " #   Column               Non-Null Count   Dtype \n",
      "---  ------               --------------   ----- \n",
      " 0   Id                   202879 non-null  int64 \n",
      " 1   StateAbbr            202879 non-null  object\n",
      " 2   QuestionUno          202879 non-null  object\n",
      " 3   CategoryUno          202879 non-null  object\n",
      " 4   Category             202879 non-null  object\n",
      " 5   SubcategoryUno       202879 non-null  object\n",
      " 6   Subcategory          202879 non-null  object\n",
      " 7   AskedByClientUno     202841 non-null  object\n",
      " 8   AskedOnUtc           202879 non-null  object\n",
      " 9   TakenByAttorneyUno   144005 non-null  object\n",
      " 10  TakenOnUtc           145651 non-null  object\n",
      " 11  ClosedByAttorneyUno  137787 non-null  object\n",
      " 12  ClosedOnUtc          199085 non-null  object\n",
      " 13  LegalDeadline        43944 non-null   object\n",
      "dtypes: int64(1), object(13)\n",
      "memory usage: 21.7+ MB\n"
     ]
    }
   ],
   "source": [
    "questions.info()"
   ]
  },
  {
   "cell_type": "code",
   "execution_count": 14,
   "id": "e557fb62",
   "metadata": {},
   "outputs": [
    {
     "name": "stdout",
     "output_type": "stream",
     "text": [
      "<class 'pandas.core.frame.DataFrame'>\n",
      "RangeIndex: 406188 entries, 1 to 406188\n",
      "Data columns (total 5 columns):\n",
      " #   Column       Non-Null Count   Dtype \n",
      "---  ------       --------------   ----- \n",
      " 0   Id           406188 non-null  object\n",
      " 1   StateAbbr    405593 non-null  object\n",
      " 2   QuestionUno  405589 non-null  object\n",
      " 3   PostText     405580 non-null  object\n",
      " 4   CreatedUtc   405570 non-null  object\n",
      "dtypes: object(5)\n",
      "memory usage: 15.5+ MB\n"
     ]
    }
   ],
   "source": [
    "Qposts.info()"
   ]
  },
  {
   "cell_type": "markdown",
   "id": "ccaa357f",
   "metadata": {},
   "source": [
    "---"
   ]
  },
  {
   "cell_type": "markdown",
   "id": "76a640ad",
   "metadata": {},
   "source": [
    "# Data Analysis and Distribution\n",
    "1. Number of clients vs. attorneys in the same state\n",
    "2. Active clients & attorneys in each state\n",
    "3. Response rate in each state\n",
    "4. Do attorneys reply to clients from the same state?"
   ]
  },
  {
   "cell_type": "markdown",
   "id": "e78ae1ad",
   "metadata": {},
   "source": [
    "### Determining the caseload for an attorney based on the number of clients within the same state"
   ]
  },
  {
   "cell_type": "code",
   "execution_count": 15,
   "id": "f15e78b7",
   "metadata": {},
   "outputs": [],
   "source": [
    "attorney_grouped = attorneys.groupby(\"StateAbbr\").size()\n",
    "client_grouped = clients.groupby(\"StateAbbr\").size()\n",
    "attorney_client = pd.concat([attorney_grouped, client_grouped], axis=1, keys=[\"Attorneys\", \"Clients\"]).fillna(0)\n",
    "\n",
    "attorney_client[\"Ratio\"] = attorney_client[\"Clients\"]/attorney_client[\"Attorneys\"]"
   ]
  },
  {
   "cell_type": "code",
   "execution_count": 16,
   "id": "48b7a264",
   "metadata": {},
   "outputs": [
    {
     "data": {
      "text/html": [
       "<div>\n",
       "<style scoped>\n",
       "    .dataframe tbody tr th:only-of-type {\n",
       "        vertical-align: middle;\n",
       "    }\n",
       "\n",
       "    .dataframe tbody tr th {\n",
       "        vertical-align: top;\n",
       "    }\n",
       "\n",
       "    .dataframe thead th {\n",
       "        text-align: right;\n",
       "    }\n",
       "</style>\n",
       "<table border=\"1\" class=\"dataframe\">\n",
       "  <thead>\n",
       "    <tr style=\"text-align: right;\">\n",
       "      <th></th>\n",
       "      <th>Attorneys</th>\n",
       "      <th>Clients</th>\n",
       "      <th>Ratio</th>\n",
       "    </tr>\n",
       "    <tr>\n",
       "      <th>StateAbbr</th>\n",
       "      <th></th>\n",
       "      <th></th>\n",
       "      <th></th>\n",
       "    </tr>\n",
       "  </thead>\n",
       "  <tbody>\n",
       "    <tr>\n",
       "      <th>VI</th>\n",
       "      <td>3</td>\n",
       "      <td>0.0</td>\n",
       "      <td>0.000000</td>\n",
       "    </tr>\n",
       "    <tr>\n",
       "      <th>ND</th>\n",
       "      <td>1</td>\n",
       "      <td>0.0</td>\n",
       "      <td>0.000000</td>\n",
       "    </tr>\n",
       "    <tr>\n",
       "      <th>ID</th>\n",
       "      <td>2</td>\n",
       "      <td>1.0</td>\n",
       "      <td>0.500000</td>\n",
       "    </tr>\n",
       "    <tr>\n",
       "      <th>AL</th>\n",
       "      <td>138</td>\n",
       "      <td>1538.0</td>\n",
       "      <td>11.144928</td>\n",
       "    </tr>\n",
       "    <tr>\n",
       "      <th>MI</th>\n",
       "      <td>77</td>\n",
       "      <td>881.0</td>\n",
       "      <td>11.441558</td>\n",
       "    </tr>\n",
       "  </tbody>\n",
       "</table>\n",
       "</div>"
      ],
      "text/plain": [
       "           Attorneys  Clients      Ratio\n",
       "StateAbbr                               \n",
       "VI                 3      0.0   0.000000\n",
       "ND                 1      0.0   0.000000\n",
       "ID                 2      1.0   0.500000\n",
       "AL               138   1538.0  11.144928\n",
       "MI                77    881.0  11.441558"
      ]
     },
     "execution_count": 16,
     "metadata": {},
     "output_type": "execute_result"
    }
   ],
   "source": [
    "attorney_client = attorney_client.sort_values(by='Ratio', ascending=True)\n",
    "attorney_client[:5]\n",
    "# More attorneys may be needed for these states"
   ]
  },
  {
   "cell_type": "code",
   "execution_count": 17,
   "id": "17f06e58",
   "metadata": {
    "scrolled": true
   },
   "outputs": [
    {
     "data": {
      "text/html": [
       "<div>\n",
       "<style scoped>\n",
       "    .dataframe tbody tr th:only-of-type {\n",
       "        vertical-align: middle;\n",
       "    }\n",
       "\n",
       "    .dataframe tbody tr th {\n",
       "        vertical-align: top;\n",
       "    }\n",
       "\n",
       "    .dataframe thead th {\n",
       "        text-align: right;\n",
       "    }\n",
       "</style>\n",
       "<table border=\"1\" class=\"dataframe\">\n",
       "  <thead>\n",
       "    <tr style=\"text-align: right;\">\n",
       "      <th></th>\n",
       "      <th>Attorneys</th>\n",
       "      <th>Clients</th>\n",
       "      <th>Ratio</th>\n",
       "    </tr>\n",
       "    <tr>\n",
       "      <th>StateAbbr</th>\n",
       "      <th></th>\n",
       "      <th></th>\n",
       "      <th></th>\n",
       "    </tr>\n",
       "  </thead>\n",
       "  <tbody>\n",
       "    <tr>\n",
       "      <th>ND</th>\n",
       "      <td>1</td>\n",
       "      <td>0.0</td>\n",
       "      <td>0.000000</td>\n",
       "    </tr>\n",
       "    <tr>\n",
       "      <th>ID</th>\n",
       "      <td>2</td>\n",
       "      <td>1.0</td>\n",
       "      <td>0.500000</td>\n",
       "    </tr>\n",
       "    <tr>\n",
       "      <th>VI</th>\n",
       "      <td>3</td>\n",
       "      <td>0.0</td>\n",
       "      <td>0.000000</td>\n",
       "    </tr>\n",
       "    <tr>\n",
       "      <th>SD</th>\n",
       "      <td>26</td>\n",
       "      <td>1503.0</td>\n",
       "      <td>57.807692</td>\n",
       "    </tr>\n",
       "    <tr>\n",
       "      <th>KS</th>\n",
       "      <td>30</td>\n",
       "      <td>875.0</td>\n",
       "      <td>29.166667</td>\n",
       "    </tr>\n",
       "  </tbody>\n",
       "</table>\n",
       "</div>"
      ],
      "text/plain": [
       "           Attorneys  Clients      Ratio\n",
       "StateAbbr                               \n",
       "ND                 1      0.0   0.000000\n",
       "ID                 2      1.0   0.500000\n",
       "VI                 3      0.0   0.000000\n",
       "SD                26   1503.0  57.807692\n",
       "KS                30    875.0  29.166667"
      ]
     },
     "execution_count": 17,
     "metadata": {},
     "output_type": "execute_result"
    }
   ],
   "source": [
    "attorney_client = attorney_client.sort_values(by='Attorneys', ascending=True)\n",
    "attorney_client[:5]\n",
    "# More attorneys may be needed for these states"
   ]
  },
  {
   "cell_type": "code",
   "execution_count": 18,
   "id": "374a3ef9",
   "metadata": {},
   "outputs": [
    {
     "data": {
      "text/html": [
       "<div>\n",
       "<style scoped>\n",
       "    .dataframe tbody tr th:only-of-type {\n",
       "        vertical-align: middle;\n",
       "    }\n",
       "\n",
       "    .dataframe tbody tr th {\n",
       "        vertical-align: top;\n",
       "    }\n",
       "\n",
       "    .dataframe thead th {\n",
       "        text-align: right;\n",
       "    }\n",
       "</style>\n",
       "<table border=\"1\" class=\"dataframe\">\n",
       "  <thead>\n",
       "    <tr style=\"text-align: right;\">\n",
       "      <th></th>\n",
       "      <th>Attorneys</th>\n",
       "      <th>Clients</th>\n",
       "      <th>Ratio</th>\n",
       "    </tr>\n",
       "    <tr>\n",
       "      <th>StateAbbr</th>\n",
       "      <th></th>\n",
       "      <th></th>\n",
       "      <th></th>\n",
       "    </tr>\n",
       "  </thead>\n",
       "  <tbody>\n",
       "    <tr>\n",
       "      <th>ND</th>\n",
       "      <td>1</td>\n",
       "      <td>0.0</td>\n",
       "      <td>0.000000</td>\n",
       "    </tr>\n",
       "    <tr>\n",
       "      <th>VI</th>\n",
       "      <td>3</td>\n",
       "      <td>0.0</td>\n",
       "      <td>0.000000</td>\n",
       "    </tr>\n",
       "    <tr>\n",
       "      <th>ID</th>\n",
       "      <td>2</td>\n",
       "      <td>1.0</td>\n",
       "      <td>0.500000</td>\n",
       "    </tr>\n",
       "    <tr>\n",
       "      <th>KS</th>\n",
       "      <td>30</td>\n",
       "      <td>875.0</td>\n",
       "      <td>29.166667</td>\n",
       "    </tr>\n",
       "    <tr>\n",
       "      <th>MI</th>\n",
       "      <td>77</td>\n",
       "      <td>881.0</td>\n",
       "      <td>11.441558</td>\n",
       "    </tr>\n",
       "  </tbody>\n",
       "</table>\n",
       "</div>"
      ],
      "text/plain": [
       "           Attorneys  Clients      Ratio\n",
       "StateAbbr                               \n",
       "ND                 1      0.0   0.000000\n",
       "VI                 3      0.0   0.000000\n",
       "ID                 2      1.0   0.500000\n",
       "KS                30    875.0  29.166667\n",
       "MI                77    881.0  11.441558"
      ]
     },
     "execution_count": 18,
     "metadata": {},
     "output_type": "execute_result"
    }
   ],
   "source": [
    "attorney_client = attorney_client.sort_values(by='Clients', ascending=True)\n",
    "attorney_client[:5]\n",
    "# More clients may the association develop for these states"
   ]
  },
  {
   "cell_type": "markdown",
   "id": "a28bcccb",
   "metadata": {},
   "source": [
    "### Active clients & attorneys in each state"
   ]
  },
  {
   "cell_type": "code",
   "execution_count": 19,
   "id": "2dfe4b31",
   "metadata": {},
   "outputs": [],
   "source": [
    "active_clients = questions[\"AskedByClientUno\"].groupby(questions[\"StateAbbr\"]).nunique()\n",
    "active_clients_rate = active_clients / client_grouped\n",
    "\n",
    "active_attorneys = questions[\"TakenByAttorneyUno\"].groupby(questions[\"StateAbbr\"]).nunique()\n",
    "active_attorneys_rate = active_attorneys / attorney_grouped"
   ]
  },
  {
   "cell_type": "code",
   "execution_count": 20,
   "id": "54dd79e6",
   "metadata": {},
   "outputs": [
    {
     "data": {
      "text/html": [
       "<div>\n",
       "<style scoped>\n",
       "    .dataframe tbody tr th:only-of-type {\n",
       "        vertical-align: middle;\n",
       "    }\n",
       "\n",
       "    .dataframe tbody tr th {\n",
       "        vertical-align: top;\n",
       "    }\n",
       "\n",
       "    .dataframe thead th {\n",
       "        text-align: right;\n",
       "    }\n",
       "</style>\n",
       "<table border=\"1\" class=\"dataframe\">\n",
       "  <thead>\n",
       "    <tr style=\"text-align: right;\">\n",
       "      <th></th>\n",
       "      <th>active_clients_rate</th>\n",
       "      <th>active_attorneys_rate</th>\n",
       "    </tr>\n",
       "    <tr>\n",
       "      <th>StateAbbr</th>\n",
       "      <th></th>\n",
       "      <th></th>\n",
       "    </tr>\n",
       "  </thead>\n",
       "  <tbody>\n",
       "    <tr>\n",
       "      <th>ND</th>\n",
       "      <td>0.000000</td>\n",
       "      <td>0.000000</td>\n",
       "    </tr>\n",
       "    <tr>\n",
       "      <th>VI</th>\n",
       "      <td>0.000000</td>\n",
       "      <td>0.000000</td>\n",
       "    </tr>\n",
       "    <tr>\n",
       "      <th>ID</th>\n",
       "      <td>1.000000</td>\n",
       "      <td>0.000000</td>\n",
       "    </tr>\n",
       "    <tr>\n",
       "      <th>PA</th>\n",
       "      <td>0.437068</td>\n",
       "      <td>0.183673</td>\n",
       "    </tr>\n",
       "    <tr>\n",
       "      <th>US</th>\n",
       "      <td>0.273245</td>\n",
       "      <td>0.247191</td>\n",
       "    </tr>\n",
       "  </tbody>\n",
       "</table>\n",
       "</div>"
      ],
      "text/plain": [
       "           active_clients_rate  active_attorneys_rate\n",
       "StateAbbr                                            \n",
       "ND                    0.000000               0.000000\n",
       "VI                    0.000000               0.000000\n",
       "ID                    1.000000               0.000000\n",
       "PA                    0.437068               0.183673\n",
       "US                    0.273245               0.247191"
      ]
     },
     "execution_count": 20,
     "metadata": {},
     "output_type": "execute_result"
    }
   ],
   "source": [
    "active_rate = pd.concat([active_clients_rate, active_attorneys_rate], axis=1, \n",
    "                        keys=[\"active_clients_rate\", \"active_attorneys_rate\"]).fillna(0)\n",
    "\n",
    "active_rate = active_rate.sort_values(by=['active_attorneys_rate', \"active_clients_rate\"], ascending=[True, True])\n",
    "active_rate[:5]\n",
    "# More attorneys may be needed for these states"
   ]
  },
  {
   "cell_type": "markdown",
   "id": "cabd8b31",
   "metadata": {},
   "source": [
    "### Response rate in each state"
   ]
  },
  {
   "cell_type": "code",
   "execution_count": 21,
   "id": "b58d7504",
   "metadata": {
    "scrolled": true
   },
   "outputs": [
    {
     "data": {
      "text/plain": [
       "StateAbbr\n",
       "ID    0.000000\n",
       "PA    0.181818\n",
       "GA    0.204154\n",
       "KS    0.242972\n",
       "AZ    0.246013\n",
       "Name: TakenByAttorneyUno, dtype: float64"
      ]
     },
     "execution_count": 21,
     "metadata": {},
     "output_type": "execute_result"
    }
   ],
   "source": [
    "questions_taken = questions.groupby(\"StateAbbr\")[\"TakenByAttorneyUno\"].count()\n",
    "total_questions = questions.groupby(\"StateAbbr\")[\"TakenByAttorneyUno\"].size()\n",
    "response_rate = questions_taken / total_questions\n",
    "response_rate.sort_values()[:5]"
   ]
  },
  {
   "cell_type": "markdown",
   "id": "05044956",
   "metadata": {},
   "source": [
    "### Do attorneys reply to clients from the same state?"
   ]
  },
  {
   "cell_type": "code",
   "execution_count": 22,
   "id": "38afc2c6",
   "metadata": {},
   "outputs": [
    {
     "name": "stdout",
     "output_type": "stream",
     "text": [
      "<class 'pandas.core.frame.DataFrame'>\n",
      "Int64Index: 202879 entries, 0 to 202878\n",
      "Data columns (total 6 columns):\n",
      " #   Column              Non-Null Count   Dtype \n",
      "---  ------              --------------   ----- \n",
      " 0   AskedByClientUno    202841 non-null  object\n",
      " 1   TakenByAttorneyUno  144005 non-null  object\n",
      " 2   StateAbbr_x         202841 non-null  object\n",
      " 3   ClientUno           202841 non-null  object\n",
      " 4   StateAbbr_y         144005 non-null  object\n",
      " 5   AttorneyUno         144005 non-null  object\n",
      "dtypes: object(6)\n",
      "memory usage: 10.8+ MB\n"
     ]
    }
   ],
   "source": [
    "merged_data = questions[['AskedByClientUno', 'TakenByAttorneyUno']] \\\n",
    "                        .merge(clients[['StateAbbr', 'ClientUno']], how='left', left_on='AskedByClientUno', right_on='ClientUno') \\\n",
    "                        .merge(attorneys[['StateAbbr', 'AttorneyUno']], how='left', left_on='TakenByAttorneyUno', right_on='AttorneyUno')\n",
    "\n",
    "merged_data.info()"
   ]
  },
  {
   "cell_type": "code",
   "execution_count": 23,
   "id": "60c1de18",
   "metadata": {
    "scrolled": true
   },
   "outputs": [
    {
     "data": {
      "text/html": [
       "<div>\n",
       "<style scoped>\n",
       "    .dataframe tbody tr th:only-of-type {\n",
       "        vertical-align: middle;\n",
       "    }\n",
       "\n",
       "    .dataframe tbody tr th {\n",
       "        vertical-align: top;\n",
       "    }\n",
       "\n",
       "    .dataframe thead th {\n",
       "        text-align: right;\n",
       "    }\n",
       "</style>\n",
       "<table border=\"1\" class=\"dataframe\">\n",
       "  <thead>\n",
       "    <tr style=\"text-align: right;\">\n",
       "      <th></th>\n",
       "      <th>responded_by_same</th>\n",
       "      <th>responded_by_diff</th>\n",
       "    </tr>\n",
       "    <tr>\n",
       "      <th>StateAbbr_x</th>\n",
       "      <th></th>\n",
       "      <th></th>\n",
       "    </tr>\n",
       "  </thead>\n",
       "  <tbody>\n",
       "    <tr>\n",
       "      <th>ID</th>\n",
       "      <td>0</td>\n",
       "      <td>1</td>\n",
       "    </tr>\n",
       "    <tr>\n",
       "      <th>US</th>\n",
       "      <td>117</td>\n",
       "      <td>188</td>\n",
       "    </tr>\n",
       "    <tr>\n",
       "      <th>KS</th>\n",
       "      <td>121</td>\n",
       "      <td>377</td>\n",
       "    </tr>\n",
       "    <tr>\n",
       "      <th>PA</th>\n",
       "      <td>126</td>\n",
       "      <td>567</td>\n",
       "    </tr>\n",
       "    <tr>\n",
       "      <th>MI</th>\n",
       "      <td>340</td>\n",
       "      <td>172</td>\n",
       "    </tr>\n",
       "  </tbody>\n",
       "</table>\n",
       "</div>"
      ],
      "text/plain": [
       "             responded_by_same  responded_by_diff\n",
       "StateAbbr_x                                      \n",
       "ID                           0                  1\n",
       "US                         117                188\n",
       "KS                         121                377\n",
       "PA                         126                567\n",
       "MI                         340                172"
      ]
     },
     "execution_count": 23,
     "metadata": {},
     "output_type": "execute_result"
    }
   ],
   "source": [
    "merged_data['responded_by_same_state'] = merged_data['StateAbbr_x'] == merged_data['StateAbbr_y']\n",
    "responded_by_same = merged_data.groupby('StateAbbr_x')['responded_by_same_state'].sum()\n",
    "merged_data.drop('responded_by_same_state', axis=1, inplace=True)\n",
    "\n",
    "merged_data['responded_by_diff_state'] = merged_data['StateAbbr_x'] != merged_data['StateAbbr_y']\n",
    "responded_by_diff = merged_data.groupby('StateAbbr_x')['responded_by_diff_state'].sum()\n",
    "merged_data.drop('responded_by_diff_state', axis=1, inplace=True)\n",
    "\n",
    "response_state = pd.concat([responded_by_same, responded_by_diff], axis=1, \n",
    "                        keys=[\"responded_by_same\", \"responded_by_diff\"])\n",
    "\n",
    "response_state = response_state.sort_values(by='responded_by_same', ascending=True)\n",
    "response_state[:5]"
   ]
  },
  {
   "cell_type": "markdown",
   "id": "677fdc76",
   "metadata": {},
   "source": [
    "---"
   ]
  },
  {
   "cell_type": "markdown",
   "id": "01474ced",
   "metadata": {},
   "source": [
    "### For the other two parts of the project, please refer to the other two ipynb\n",
    "2. Time Series Analysis\n",
    "3. NLP Processing & Text Analysis"
   ]
  },
  {
   "cell_type": "code",
   "execution_count": null,
   "id": "1e26096f",
   "metadata": {},
   "outputs": [],
   "source": []
  }
 ],
 "metadata": {
  "kernelspec": {
   "display_name": "Python 3 (ipykernel)",
   "language": "python",
   "name": "python3"
  },
  "language_info": {
   "codemirror_mode": {
    "name": "ipython",
    "version": 3
   },
   "file_extension": ".py",
   "mimetype": "text/x-python",
   "name": "python",
   "nbconvert_exporter": "python",
   "pygments_lexer": "ipython3",
   "version": "3.9.13"
  }
 },
 "nbformat": 4,
 "nbformat_minor": 5
}
